{
 "cells": [
  {
   "cell_type": "code",
   "id": "initial_id",
   "metadata": {
    "collapsed": true,
    "ExecuteTime": {
     "end_time": "2024-07-10T14:21:28.949486Z",
     "start_time": "2024-07-10T14:21:28.941953Z"
    }
   },
   "source": "import os\n",
   "outputs": [],
   "execution_count": 1
  },
  {
   "metadata": {
    "ExecuteTime": {
     "end_time": "2024-07-10T14:21:30.814339Z",
     "start_time": "2024-07-10T14:21:30.798668Z"
    }
   },
   "cell_type": "code",
   "source": "%pwd",
   "id": "c8bae88e1d19a60c",
   "outputs": [
    {
     "data": {
      "text/plain": [
       "'C:\\\\Users\\\\afeef\\\\OneDrive\\\\Documents\\\\PYTHON\\\\InfoCondense\\\\InfoCondenseTool\\\\research'"
      ]
     },
     "execution_count": 2,
     "metadata": {},
     "output_type": "execute_result"
    }
   ],
   "execution_count": 2
  },
  {
   "metadata": {
    "ExecuteTime": {
     "end_time": "2024-07-10T14:21:32.183518Z",
     "start_time": "2024-07-10T14:21:32.177623Z"
    }
   },
   "cell_type": "code",
   "source": "os.chdir(\"../\")",
   "id": "66d88b832f0774da",
   "outputs": [],
   "execution_count": 3
  },
  {
   "metadata": {
    "ExecuteTime": {
     "end_time": "2024-07-10T14:21:32.833908Z",
     "start_time": "2024-07-10T14:21:32.828427Z"
    }
   },
   "cell_type": "code",
   "source": "%pwd",
   "id": "ecd2db498485e425",
   "outputs": [
    {
     "data": {
      "text/plain": [
       "'C:\\\\Users\\\\afeef\\\\OneDrive\\\\Documents\\\\PYTHON\\\\InfoCondense\\\\InfoCondenseTool'"
      ]
     },
     "execution_count": 4,
     "metadata": {},
     "output_type": "execute_result"
    }
   ],
   "execution_count": 4
  },
  {
   "metadata": {
    "ExecuteTime": {
     "end_time": "2024-07-10T14:21:34.039539Z",
     "start_time": "2024-07-10T14:21:34.027616Z"
    }
   },
   "cell_type": "code",
   "source": [
    "from dataclasses import dataclass\n",
    "from pathlib import Path\n",
    "\n",
    "@dataclass(frozen=True)\n",
    "class DataIngestionConfig:\n",
    "    root_dir: Path\n",
    "    source_url: str\n",
    "    local_data_file: Path\n",
    "    unzip_dir: Path\n"
   ],
   "id": "2589af9bf23d8c8e",
   "outputs": [],
   "execution_count": 5
  },
  {
   "metadata": {
    "ExecuteTime": {
     "end_time": "2024-07-10T14:21:34.707373Z",
     "start_time": "2024-07-10T14:21:34.588759Z"
    }
   },
   "cell_type": "code",
   "source": [
    "from src.InfoCondense.constants import *\n",
    "from src.InfoCondense.utils.common import read_yaml, create_directories\n",
    "\n"
   ],
   "id": "6645196fbd18ffe1",
   "outputs": [],
   "execution_count": 6
  },
  {
   "metadata": {
    "ExecuteTime": {
     "end_time": "2024-07-10T14:21:35.339953Z",
     "start_time": "2024-07-10T14:21:35.332334Z"
    }
   },
   "cell_type": "code",
   "source": [
    "class ConfigManager:\n",
    "    def __init__(\n",
    "            self, \n",
    "            config_path: CONFIG_FILE_PATH,\n",
    "            params_path: PARAMS_FILE_PATH):\n",
    "            self.config = read_yaml(config_path)\n",
    "            self.params = read_yaml(params_path) \n",
    "            create_directories([self.config.artifacts_root])\n",
    "        \n",
    "        \n",
    "    def get_data_ingestion_config(self)-> DataIngestionConfig:\n",
    "        config = self.config.data_ingestion\n",
    "        \n",
    "        create_directories([config.root_dir])\n",
    "        \n",
    "        data_ingestion_config = DataIngestionConfig(\n",
    "            root_dir = config.root_dir,\n",
    "            source_url = config.source_url, \n",
    "            local_data_file = config.local_data_file,\n",
    "            unzip_dir = config.unzip_dir\n",
    "        )\n",
    "        \n",
    "        return data_ingestion_config"
   ],
   "id": "65c72a21f24c86af",
   "outputs": [],
   "execution_count": 7
  },
  {
   "metadata": {
    "ExecuteTime": {
     "end_time": "2024-07-10T14:21:36.055571Z",
     "start_time": "2024-07-10T14:21:36.048055Z"
    }
   },
   "cell_type": "code",
   "source": [
    "import os\n",
    "import urllib.request as request\n",
    "import zipfile\n",
    "from src.InfoCondense.logging import logger\n",
    "from src.InfoCondense.utils.common import get_size\n",
    "\n"
   ],
   "id": "572f3c138ba9176d",
   "outputs": [],
   "execution_count": 8
  },
  {
   "metadata": {
    "ExecuteTime": {
     "end_time": "2024-07-10T14:21:36.582014Z",
     "start_time": "2024-07-10T14:21:36.576660Z"
    }
   },
   "cell_type": "code",
   "source": [
    "class DataIngestion:\n",
    "    def __init__(self, config: DataIngestionConfig):\n",
    "        self.config = config\n",
    "        \n",
    "    def download_file(self):\n",
    "        if not os.path.exists(self.config.local_data_file):\n",
    "            filename, headers = request.urlretrieve(\n",
    "                url = self.config.source_url, \n",
    "                filename = self.config.local_data_file\n",
    "            )\n",
    "            logger.info(f\"{filename} download! with the following info: \\n {headers}\")\n",
    "            \n",
    "        else:\n",
    "            logger.info(f\"File already exists of size: {get_size(Path(self.config.local_data_file))}\")\n",
    "            \n",
    "    \n",
    "    def extract_zip(self):\n",
    "        \"\"\"\n",
    "        zip_file_path:str\n",
    "        Extract zip file from url into the data directory\n",
    "        Function returns none\n",
    "        \"\"\"\n",
    "        unzip_path = self.config.unzip_dir\n",
    "        os.makedirs(unzip_path, exist_ok = True)\n",
    "        with zipfile.ZipFile(self.config.local_data_file, 'r') as zip_ref:\n",
    "            zip_ref.extractall(unzip_path)\n",
    "             "
   ],
   "id": "d6fba24ad7b91305",
   "outputs": [],
   "execution_count": 9
  },
  {
   "metadata": {
    "ExecuteTime": {
     "end_time": "2024-07-10T14:21:52.051237Z",
     "start_time": "2024-07-10T14:21:38.230545Z"
    }
   },
   "cell_type": "code",
   "source": [
    "try: \n",
    "    config = ConfigManager(CONFIG_FILE_PATH,PARAMS_FILE_PATH)\n",
    "    data_ingestion_config = config.get_data_ingestion_config()\n",
    "    data_ingestion = DataIngestion(config= data_ingestion_config)\n",
    "    data_ingestion.download_file()\n",
    "    data_ingestion.extract_zip()\n",
    "except Exception as e:\n",
    "    raise e"
   ],
   "id": "ea11a66249cb7209",
   "outputs": [
    {
     "name": "stdout",
     "output_type": "stream",
     "text": [
      "Trying to open the yaml file at: C:\\Users\\afeef\\OneDrive\\Documents\\PYTHON\\InfoCondense\\InfoCondenseTool\\config\\config.yaml\n",
      "[2024-07-10 19:51:38,238: INFO: common]: yaml file: C:\\Users\\afeef\\OneDrive\\Documents\\PYTHON\\InfoCondense\\InfoCondenseTool\\config\\config.yaml loaded successfully]\n",
      "Trying to open the yaml file at: C:\\Users\\afeef\\OneDrive\\Documents\\PYTHON\\InfoCondense\\InfoCondenseTool\\params.yaml\n",
      "[2024-07-10 19:51:38,241: INFO: common]: yaml file: C:\\Users\\afeef\\OneDrive\\Documents\\PYTHON\\InfoCondense\\InfoCondenseTool\\params.yaml loaded successfully]\n",
      "[2024-07-10 19:51:38,244: INFO: common]: created directory at: C:\\Users\\afeef\\OneDrive\\Documents\\PYTHON\\InfoCondense\\InfoCondenseTool\\artifacts]\n",
      "[2024-07-10 19:51:38,247: INFO: common]: created directory at: C:\\Users\\afeef\\OneDrive\\Documents\\PYTHON\\InfoCondense\\InfoCondenseTool\\artifacts\\data_ingestion]\n",
      "[2024-07-10 19:51:51,827: INFO: 4286236413]: C:\\Users\\afeef\\OneDrive\\Documents\\PYTHON\\InfoCondense\\InfoCondenseTool\\artifacts\\data_ingestion\\data.zip download! with the following info: \n",
      " Connection: close\n",
      "Content-Length: 8398633\n",
      "Cache-Control: max-age=300\n",
      "Content-Security-Policy: default-src 'none'; style-src 'unsafe-inline'; sandbox\n",
      "Content-Type: application/zip\n",
      "ETag: \"42eb2323b2a5f214c303ac014591555884834f63f356d7ceca1f262c364bb606\"\n",
      "Strict-Transport-Security: max-age=31536000\n",
      "X-Content-Type-Options: nosniff\n",
      "X-Frame-Options: deny\n",
      "X-XSS-Protection: 1; mode=block\n",
      "X-GitHub-Request-Id: CCEE:13C24E:3A1179:4BF38F:668E8C1E\n",
      "Accept-Ranges: bytes\n",
      "Date: Wed, 10 Jul 2024 14:21:50 GMT\n",
      "Via: 1.1 varnish\n",
      "X-Served-By: cache-maa10221-MAA\n",
      "X-Cache: HIT\n",
      "X-Cache-Hits: 0\n",
      "X-Timer: S1720621310.083501,VS0,VE280\n",
      "Vary: Authorization,Accept-Encoding,Origin\n",
      "Access-Control-Allow-Origin: *\n",
      "Cross-Origin-Resource-Policy: cross-origin\n",
      "X-Fastly-Request-ID: 8eba6ab60a7a7508bb53ad0efb306c87ea0f5ca9\n",
      "Expires: Wed, 10 Jul 2024 14:26:50 GMT\n",
      "Source-Age: 0\n",
      "\n",
      "]\n"
     ]
    }
   ],
   "execution_count": 10
  },
  {
   "metadata": {},
   "cell_type": "code",
   "source": "",
   "id": "d596996d49e1904f",
   "outputs": [],
   "execution_count": null
  },
  {
   "metadata": {},
   "cell_type": "code",
   "source": "",
   "id": "4b720ef082e99b0b",
   "outputs": [],
   "execution_count": null
  }
 ],
 "metadata": {
  "kernelspec": {
   "display_name": "Python 3",
   "language": "python",
   "name": "python3"
  },
  "language_info": {
   "codemirror_mode": {
    "name": "ipython",
    "version": 2
   },
   "file_extension": ".py",
   "mimetype": "text/x-python",
   "name": "python",
   "nbconvert_exporter": "python",
   "pygments_lexer": "ipython2",
   "version": "2.7.6"
  }
 },
 "nbformat": 4,
 "nbformat_minor": 5
}
