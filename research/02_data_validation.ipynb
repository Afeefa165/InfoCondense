{
 "cells": [
  {
   "cell_type": "code",
   "id": "initial_id",
   "metadata": {
    "collapsed": true,
    "ExecuteTime": {
     "end_time": "2024-07-10T14:17:51.196590Z",
     "start_time": "2024-07-10T14:17:51.189007Z"
    }
   },
   "source": "import os",
   "outputs": [],
   "execution_count": 1
  },
  {
   "metadata": {
    "ExecuteTime": {
     "end_time": "2024-07-10T14:17:51.571199Z",
     "start_time": "2024-07-10T14:17:51.560502Z"
    }
   },
   "cell_type": "code",
   "source": "%pwd",
   "id": "152336422e9b7d2e",
   "outputs": [
    {
     "data": {
      "text/plain": [
       "'C:\\\\Users\\\\afeef\\\\OneDrive\\\\Documents\\\\PYTHON\\\\InfoCondense\\\\InfoCondenseTool\\\\research'"
      ]
     },
     "execution_count": 2,
     "metadata": {},
     "output_type": "execute_result"
    }
   ],
   "execution_count": 2
  },
  {
   "metadata": {
    "ExecuteTime": {
     "end_time": "2024-07-10T14:17:51.895030Z",
     "start_time": "2024-07-10T14:17:51.890331Z"
    }
   },
   "cell_type": "code",
   "source": "os.chdir(\"../\")",
   "id": "b00a40e48816a14b",
   "outputs": [],
   "execution_count": 3
  },
  {
   "metadata": {
    "ExecuteTime": {
     "end_time": "2024-07-10T14:17:52.297228Z",
     "start_time": "2024-07-10T14:17:52.292019Z"
    }
   },
   "cell_type": "code",
   "source": "%pwd",
   "id": "5f201835c303a6e9",
   "outputs": [
    {
     "data": {
      "text/plain": [
       "'C:\\\\Users\\\\afeef\\\\OneDrive\\\\Documents\\\\PYTHON\\\\InfoCondense\\\\InfoCondenseTool'"
      ]
     },
     "execution_count": 4,
     "metadata": {},
     "output_type": "execute_result"
    }
   ],
   "execution_count": 4
  },
  {
   "metadata": {
    "ExecuteTime": {
     "end_time": "2024-07-10T14:17:52.620678Z",
     "start_time": "2024-07-10T14:17:52.614748Z"
    }
   },
   "cell_type": "code",
   "source": [
    "from dataclasses import dataclass\n",
    "from pathlib import Path\n",
    "\n",
    "@dataclass(frozen=True)\n",
    "class DataValidationConfig:\n",
    "    root_dir: Path\n",
    "    STATUS_FILE: str\n",
    "    ALL_REQUIRED_FILES: list\n",
    "    "
   ],
   "id": "6922ad7820c8c32a",
   "outputs": [],
   "execution_count": 5
  },
  {
   "metadata": {
    "ExecuteTime": {
     "end_time": "2024-07-10T14:17:53.666357Z",
     "start_time": "2024-07-10T14:17:53.528518Z"
    }
   },
   "cell_type": "code",
   "source": [
    "from src.InfoCondense.constants import *\n",
    "from src.InfoCondense.utils.common import read_yaml, create_directories"
   ],
   "id": "beba73d57df335f3",
   "outputs": [],
   "execution_count": 6
  },
  {
   "metadata": {
    "ExecuteTime": {
     "end_time": "2024-07-10T14:17:54.207298Z",
     "start_time": "2024-07-10T14:17:54.202285Z"
    }
   },
   "cell_type": "code",
   "source": [
    "class ConfigManager:\n",
    "    def __init__(\n",
    "            self, \n",
    "            config_path: CONFIG_FILE_PATH,\n",
    "            params_path: PARAMS_FILE_PATH):\n",
    "            self.config = read_yaml(config_path)\n",
    "            self.params = read_yaml(params_path) \n",
    "            create_directories([self.config.artifacts_root])\n",
    "            \n",
    "    def get_data_validation_config(self) -> DataValidationConfig:\n",
    "        config = self.config.data_validation\n",
    "        create_directories([config.root_dir])\n",
    "        data_validation_config = DataValidationConfig(\n",
    "            root_dir = config.root_dir,\n",
    "            STATUS_FILE = config.STATUS_FILE,\n",
    "            ALL_REQUIRED_FILES = config.ALL_REQUIRED_FILES,\n",
    "        )\n",
    "        \n",
    "        return data_validation_config"
   ],
   "id": "3a8f464a407150e2",
   "outputs": [],
   "execution_count": 7
  },
  {
   "metadata": {
    "ExecuteTime": {
     "end_time": "2024-07-10T14:17:54.885100Z",
     "start_time": "2024-07-10T14:17:54.881747Z"
    }
   },
   "cell_type": "code",
   "source": [
    "import os\n",
    "from src.InfoCondense.logging import logger"
   ],
   "id": "c1b9ac7ee2f9d71e",
   "outputs": [],
   "execution_count": 8
  },
  {
   "metadata": {
    "ExecuteTime": {
     "end_time": "2024-07-10T14:17:55.689282Z",
     "start_time": "2024-07-10T14:17:55.678955Z"
    }
   },
   "cell_type": "code",
   "source": [
    "class DataValidation:\n",
    "    def __init__(self, config:DataValidationConfig):\n",
    "        self.config = config\n",
    "        \n",
    "        \n",
    "    def validate_all_files_exit(self)-> bool:\n",
    "        try:\n",
    "            validation_status = None\n",
    "            all_files = os.listdir(os.path.join(\"artifacts\",\"data_ingestion\", \"samsum_dataset\"))\n",
    "            print(all_files)\n",
    "            for file in all_files:\n",
    "                if file not in self.config.ALL_REQUIRED_FILES:\n",
    "                    validation_status = False\n",
    "                    with open(self.config.STATUS_FILE,'w') as f:\n",
    "                        f.write(f\"Validation Status: {validation_status}\")\n",
    "                else:\n",
    "                    validation_status = True\n",
    "                    with open(self.config.STATUS_FILE,'w') as f:\n",
    "                        f.write(f\"Validation Status: {validation_status}\")\n",
    "                return validation_status\n",
    "            \n",
    "        except Exception as e:   \n",
    "            raise e\n",
    "                "
   ],
   "id": "bcec81f27b5198f7",
   "outputs": [],
   "execution_count": 9
  },
  {
   "metadata": {
    "ExecuteTime": {
     "end_time": "2024-07-10T14:17:56.557508Z",
     "start_time": "2024-07-10T14:17:56.535251Z"
    }
   },
   "cell_type": "code",
   "source": [
    "try:\n",
    "    config = ConfigManager(CONFIG_FILE_PATH,PARAMS_FILE_PATH)\n",
    "    data_validation_config = config.get_data_validation_config()\n",
    "    data_validation = DataValidation(config=data_validation_config)\n",
    "    data_validation.validate_all_files_exit()\n",
    "except Exception as e:\n",
    "    raise e\n"
   ],
   "id": "9e40c2ed8752b571",
   "outputs": [
    {
     "name": "stdout",
     "output_type": "stream",
     "text": [
      "Trying to open the yaml file at: C:\\Users\\afeef\\OneDrive\\Documents\\PYTHON\\InfoCondense\\InfoCondenseTool\\config\\config.yaml\n",
      "[2024-07-10 19:47:56,540: INFO: common]: yaml file: C:\\Users\\afeef\\OneDrive\\Documents\\PYTHON\\InfoCondense\\InfoCondenseTool\\config\\config.yaml loaded successfully]\n",
      "Trying to open the yaml file at: C:\\Users\\afeef\\OneDrive\\Documents\\PYTHON\\InfoCondense\\InfoCondenseTool\\params.yaml\n",
      "[2024-07-10 19:47:56,544: INFO: common]: yaml file: C:\\Users\\afeef\\OneDrive\\Documents\\PYTHON\\InfoCondense\\InfoCondenseTool\\params.yaml loaded successfully]\n",
      "[2024-07-10 19:47:56,547: INFO: common]: created directory at: C:\\Users\\afeef\\OneDrive\\Documents\\PYTHON\\InfoCondense\\InfoCondenseTool\\artifacts]\n",
      "[2024-07-10 19:47:56,550: INFO: common]: created directory at: C:\\Users\\afeef\\OneDrive\\Documents\\PYTHON\\InfoCondense\\InfoCondenseTool\\artifacts\\data_validation]\n",
      "['test', 'train', 'validation']\n"
     ]
    }
   ],
   "execution_count": 10
  },
  {
   "metadata": {
    "ExecuteTime": {
     "end_time": "2024-07-10T14:17:58.662450Z",
     "start_time": "2024-07-10T14:17:58.657149Z"
    }
   },
   "cell_type": "code",
   "source": "",
   "id": "a0f62a91cbe94335",
   "outputs": [],
   "execution_count": 10
  },
  {
   "metadata": {},
   "cell_type": "code",
   "outputs": [],
   "execution_count": null,
   "source": "",
   "id": "7b6bee274204e4fa"
  }
 ],
 "metadata": {
  "kernelspec": {
   "display_name": "Python 3",
   "language": "python",
   "name": "python3"
  },
  "language_info": {
   "codemirror_mode": {
    "name": "ipython",
    "version": 2
   },
   "file_extension": ".py",
   "mimetype": "text/x-python",
   "name": "python",
   "nbconvert_exporter": "python",
   "pygments_lexer": "ipython2",
   "version": "2.7.6"
  }
 },
 "nbformat": 4,
 "nbformat_minor": 5
}
