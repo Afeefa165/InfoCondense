{
 "cells": [
  {
   "cell_type": "code",
   "id": "initial_id",
   "metadata": {
    "collapsed": true,
    "ExecuteTime": {
     "end_time": "2024-07-10T18:56:41.955313Z",
     "start_time": "2024-07-10T18:56:41.947026Z"
    }
   },
   "source": "import os\n",
   "outputs": [],
   "execution_count": 1
  },
  {
   "metadata": {
    "ExecuteTime": {
     "end_time": "2024-07-10T18:56:41.968617Z",
     "start_time": "2024-07-10T18:56:41.958330Z"
    }
   },
   "cell_type": "code",
   "source": "%pwd",
   "id": "955eb1ed751d58d3",
   "outputs": [
    {
     "data": {
      "text/plain": [
       "'C:\\\\Users\\\\afeef\\\\OneDrive\\\\Documents\\\\PYTHON\\\\InfoCondense\\\\InfoCondenseTool\\\\research'"
      ]
     },
     "execution_count": 2,
     "metadata": {},
     "output_type": "execute_result"
    }
   ],
   "execution_count": 2
  },
  {
   "metadata": {
    "ExecuteTime": {
     "end_time": "2024-07-10T18:56:41.977538Z",
     "start_time": "2024-07-10T18:56:41.972076Z"
    }
   },
   "cell_type": "code",
   "source": "os.chdir(\"../\")",
   "id": "4c5720e6dbcd9ab9",
   "outputs": [],
   "execution_count": 3
  },
  {
   "metadata": {
    "ExecuteTime": {
     "end_time": "2024-07-10T18:56:47.606877Z",
     "start_time": "2024-07-10T18:56:47.601447Z"
    }
   },
   "cell_type": "code",
   "source": "%pwd",
   "id": "1f230dbfdcad3a41",
   "outputs": [
    {
     "data": {
      "text/plain": [
       "'C:\\\\Users\\\\afeef\\\\OneDrive\\\\Documents\\\\PYTHON\\\\InfoCondense\\\\InfoCondenseTool'"
      ]
     },
     "execution_count": 4,
     "metadata": {},
     "output_type": "execute_result"
    }
   ],
   "execution_count": 4
  },
  {
   "metadata": {
    "ExecuteTime": {
     "end_time": "2024-07-10T18:56:47.917826Z",
     "start_time": "2024-07-10T18:56:47.912151Z"
    }
   },
   "cell_type": "code",
   "source": [
    "from dataclasses import dataclass\n",
    "from pathlib import Path\n",
    "\n",
    "@dataclass(frozen=True)\n",
    "class DataTransformationConfig:\n",
    "    root_dir: Path\n",
    "    data_path: Path\n",
    "    tokenizer_name: Path"
   ],
   "id": "bb9aacdba1d0ae18",
   "outputs": [],
   "execution_count": 5
  },
  {
   "metadata": {
    "ExecuteTime": {
     "end_time": "2024-07-10T18:56:48.512962Z",
     "start_time": "2024-07-10T18:56:48.267121Z"
    }
   },
   "cell_type": "code",
   "source": [
    "from src.InfoCondense.constants import *\n",
    "from src.InfoCondense.utils.common import read_yaml, create_directories"
   ],
   "id": "194b698aafcbe561",
   "outputs": [],
   "execution_count": 6
  },
  {
   "metadata": {
    "ExecuteTime": {
     "end_time": "2024-07-10T18:56:48.717048Z",
     "start_time": "2024-07-10T18:56:48.711279Z"
    }
   },
   "cell_type": "code",
   "source": [
    "class ConfigManager:\n",
    "    def __init__(\n",
    "            self, \n",
    "            config_path: CONFIG_FILE_PATH,\n",
    "            params_path: PARAMS_FILE_PATH):\n",
    "            self.config = read_yaml(config_path)\n",
    "            self.params = read_yaml(params_path) \n",
    "            create_directories([self.config.artifacts_root])\n",
    "            \n",
    "    def get_data_transformation_config(self) -> DataTransformationConfig:\n",
    "        config = self.config.data_transformation\n",
    "        create_directories([config.root_dir])\n",
    "        data_transformation_config = DataTransformationConfig(\n",
    "            root_dir = config.root_dir, \n",
    "            data_path = config.data_path,\n",
    "            tokenizer_name = config.tokenizer_name\n",
    "        )\n",
    "        \n",
    "        return data_transformation_config\n",
    "    "
   ],
   "id": "c406fafd07e045d6",
   "outputs": [],
   "execution_count": 7
  },
  {
   "metadata": {
    "ExecuteTime": {
     "end_time": "2024-07-10T18:56:57.572581Z",
     "start_time": "2024-07-10T18:56:49.230641Z"
    }
   },
   "cell_type": "code",
   "source": [
    "from transformers import AutoTokenizer\n",
    "import os\n",
    "from src.InfoCondense.logging import logger\n",
    "from datasets import load_dataset, load_from_disk"
   ],
   "id": "90178792a12a39c",
   "outputs": [
    {
     "name": "stderr",
     "output_type": "stream",
     "text": [
      "C:\\Python312new\\Lib\\site-packages\\tqdm\\auto.py:21: TqdmWarning: IProgress not found. Please update jupyter and ipywidgets. See https://ipywidgets.readthedocs.io/en/stable/user_install.html\n",
      "  from .autonotebook import tqdm as notebook_tqdm\n"
     ]
    },
    {
     "name": "stdout",
     "output_type": "stream",
     "text": [
      "[2024-07-11 00:26:56,426: INFO: config]: PyTorch version 2.3.1 available.]\n"
     ]
    }
   ],
   "execution_count": 8
  },
  {
   "metadata": {
    "ExecuteTime": {
     "end_time": "2024-07-10T18:56:57.584463Z",
     "start_time": "2024-07-10T18:56:57.575591Z"
    }
   },
   "cell_type": "code",
   "source": [
    "class DataTransformation:\n",
    "    def __init__(self, config: DataTransformationConfig):\n",
    "        self.config =config\n",
    "        self.tokenizer = AutoTokenizer.from_pretrained(config.tokenizer_name)\n",
    "    \n",
    "    def convert_examples_to_features(self,example_batch):\n",
    "        input_encodings = self.tokenizer(example_batch['dialogue'], max_length= 1024, truncation=True, padding= True)\n",
    "        with self.tokenizer.as_target_tokenizer():\n",
    "            target_encodings = self.tokenizer(example_batch['summary'], max_length = 128, truncation= True, padding = True)\n",
    "            \n",
    "        return {\n",
    "            'input_ids': input_encodings['input_ids'],\n",
    "            'attention_mask': input_encodings['attention_mask'],\n",
    "            'labels': target_encodings['input_ids']\n",
    "        }\n",
    "    \n",
    "    def convert(self):\n",
    "        try:\n",
    "            dataset_samsum = load_from_disk(str(self.config.data_path))\n",
    "            dataset_samsum_pt = dataset_samsum.map(self.convert_examples_to_features, batched = True)\n",
    "            target_dir=os.path.join(self.config.root_dir,\"samsum_dataset_transformed\")\n",
    "            dataset_samsum_pt.save_to_disk(target_dir)\n",
    "        except Exception as e:\n",
    "            raise e\n",
    "                                       \n",
    "      \n",
    "    "
   ],
   "id": "2e89642af3b3b574",
   "outputs": [],
   "execution_count": 9
  },
  {
   "metadata": {
    "ExecuteTime": {
     "end_time": "2024-07-10T18:57:03.868173Z",
     "start_time": "2024-07-10T18:56:57.585981Z"
    }
   },
   "cell_type": "code",
   "source": [
    "try:\n",
    "    config = ConfigManager(CONFIG_FILE_PATH, PARAMS_FILE_PATH)\n",
    "    data_transformation_config = config.get_data_transformation_config()\n",
    "    data_transformation = DataTransformation(config= data_transformation_config)\n",
    "    data_transformation.convert()\n",
    "except Exception as e:\n",
    "    raise e"
   ],
   "id": "4607328814c2d482",
   "outputs": [
    {
     "name": "stdout",
     "output_type": "stream",
     "text": [
      "Trying to open the yaml file at: C:\\Users\\afeef\\OneDrive\\Documents\\PYTHON\\InfoCondense\\InfoCondenseTool\\config\\config.yaml\n",
      "[2024-07-11 00:26:57,610: INFO: common]: yaml file: C:\\Users\\afeef\\OneDrive\\Documents\\PYTHON\\InfoCondense\\InfoCondenseTool\\config\\config.yaml loaded successfully]\n",
      "Trying to open the yaml file at: C:\\Users\\afeef\\OneDrive\\Documents\\PYTHON\\InfoCondense\\InfoCondenseTool\\params.yaml\n",
      "[2024-07-11 00:26:57,624: INFO: common]: yaml file: C:\\Users\\afeef\\OneDrive\\Documents\\PYTHON\\InfoCondense\\InfoCondenseTool\\params.yaml loaded successfully]\n",
      "[2024-07-11 00:26:57,627: INFO: common]: created directory at: C:\\Users\\afeef\\OneDrive\\Documents\\PYTHON\\InfoCondense\\InfoCondenseTool\\artifacts]\n",
      "[2024-07-11 00:26:57,630: INFO: common]: created directory at: C:\\Users\\afeef\\OneDrive\\Documents\\PYTHON\\InfoCondense\\InfoCondenseTool\\artifacts\\data_transformation]\n"
     ]
    },
    {
     "name": "stderr",
     "output_type": "stream",
     "text": [
      "Map:   0%|          | 0/14732 [00:00<?, ? examples/s]C:\\Python312new\\Lib\\site-packages\\transformers\\tokenization_utils_base.py:4016: UserWarning: `as_target_tokenizer` is deprecated and will be removed in v5 of Transformers. You can tokenize your labels by using the argument `text_target` of the regular `__call__` method (either in the same call as your input texts if you use the same keyword arguments, or in a separate call.\n",
      "  warnings.warn(\n",
      "Map: 100%|██████████| 14732/14732 [00:04<00:00, 3321.07 examples/s]\n",
      "Map: 100%|██████████| 819/819 [00:00<00:00, 3455.11 examples/s]\n",
      "Map: 100%|██████████| 818/818 [00:00<00:00, 3299.23 examples/s]\n",
      "Saving the dataset (1/1 shards): 100%|██████████| 14732/14732 [00:00<00:00, 231536.91 examples/s]\n",
      "Saving the dataset (1/1 shards): 100%|██████████| 819/819 [00:00<00:00, 90992.13 examples/s] \n",
      "Saving the dataset (1/1 shards): 100%|██████████| 818/818 [00:00<00:00, 61643.26 examples/s]\n"
     ]
    }
   ],
   "execution_count": 10
  },
  {
   "metadata": {},
   "cell_type": "code",
   "outputs": [],
   "execution_count": null,
   "source": "",
   "id": "d599768bca5c168a"
  }
 ],
 "metadata": {
  "kernelspec": {
   "display_name": "Python 3",
   "language": "python",
   "name": "python3"
  },
  "language_info": {
   "codemirror_mode": {
    "name": "ipython",
    "version": 2
   },
   "file_extension": ".py",
   "mimetype": "text/x-python",
   "name": "python",
   "nbconvert_exporter": "python",
   "pygments_lexer": "ipython2",
   "version": "2.7.6"
  }
 },
 "nbformat": 4,
 "nbformat_minor": 5
}
